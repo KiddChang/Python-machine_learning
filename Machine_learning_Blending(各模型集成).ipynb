{
 "cells": [
  {
   "cell_type": "code",
   "execution_count": 1,
   "id": "c7d3839d",
   "metadata": {},
   "outputs": [],
   "source": [
    "#Blending 的前提是：個別模型的效果都很好，並且模型差異大大\n",
    "import pandas as pd\n",
    "import numpy as np\n",
    "from sklearn.model_selection import train_test_split\n",
    "from sklearn.metrics import mean_squared_error"
   ]
  },
  {
   "cell_type": "code",
   "execution_count": 2,
   "id": "74c21d61",
   "metadata": {},
   "outputs": [],
   "source": [
    "df_train = pd.read_csv('ch2_house_train_clean.csv')"
   ]
  },
  {
   "cell_type": "code",
   "execution_count": 3,
   "id": "e06cfb46",
   "metadata": {},
   "outputs": [],
   "source": [
    "df_train_y = df_train['單價(元/平方公尺)']"
   ]
  },
  {
   "cell_type": "code",
   "execution_count": 4,
   "id": "2a6142a5",
   "metadata": {},
   "outputs": [],
   "source": [
    "df_train = df_train.drop(['單價(元/平方公尺)'],axis =1)"
   ]
  },
  {
   "cell_type": "code",
   "execution_count": 5,
   "id": "cafaf614",
   "metadata": {},
   "outputs": [
    {
     "data": {
      "text/html": [
       "<div>\n",
       "<style scoped>\n",
       "    .dataframe tbody tr th:only-of-type {\n",
       "        vertical-align: middle;\n",
       "    }\n",
       "\n",
       "    .dataframe tbody tr th {\n",
       "        vertical-align: top;\n",
       "    }\n",
       "\n",
       "    .dataframe thead th {\n",
       "        text-align: right;\n",
       "    }\n",
       "</style>\n",
       "<table border=\"1\" class=\"dataframe\">\n",
       "  <thead>\n",
       "    <tr style=\"text-align: right;\">\n",
       "      <th></th>\n",
       "      <th>土地移轉總面積(平方公尺)</th>\n",
       "      <th>建物現況格局-廳</th>\n",
       "      <th>建物現況格局-房</th>\n",
       "      <th>建物現況格局-衛</th>\n",
       "      <th>建物移轉總面積(平方公尺)</th>\n",
       "      <th>總價(元)</th>\n",
       "      <th>車位移轉總面積(平方公尺)</th>\n",
       "      <th>車位總價(元)</th>\n",
       "      <th>num_of_bus_stations_in_100m</th>\n",
       "      <th>income_avg</th>\n",
       "      <th>...</th>\n",
       "      <th>土地區段位置/建物區段門牌</th>\n",
       "      <th>建物型態</th>\n",
       "      <th>建物現況格局-隔間</th>\n",
       "      <th>有無管理組織</th>\n",
       "      <th>車位類別</th>\n",
       "      <th>都市土地使用分區</th>\n",
       "      <th>鄉鎮市區</th>\n",
       "      <th>非都市土地使用分區</th>\n",
       "      <th>location_type</th>\n",
       "      <th>nearest_tarin_station</th>\n",
       "    </tr>\n",
       "  </thead>\n",
       "  <tbody>\n",
       "    <tr>\n",
       "      <th>0</th>\n",
       "      <td>2.364366</td>\n",
       "      <td>-1.567971</td>\n",
       "      <td>-1.419390</td>\n",
       "      <td>-1.495833</td>\n",
       "      <td>-1.353538</td>\n",
       "      <td>-0.910140</td>\n",
       "      <td>-0.539096</td>\n",
       "      <td>-0.389257</td>\n",
       "      <td>-1.429543</td>\n",
       "      <td>0.102731</td>\n",
       "      <td>...</td>\n",
       "      <td>933</td>\n",
       "      <td>2</td>\n",
       "      <td>0</td>\n",
       "      <td>1</td>\n",
       "      <td>1</td>\n",
       "      <td>1</td>\n",
       "      <td>6</td>\n",
       "      <td>1</td>\n",
       "      <td>1</td>\n",
       "      <td>40</td>\n",
       "    </tr>\n",
       "    <tr>\n",
       "      <th>1</th>\n",
       "      <td>0.631359</td>\n",
       "      <td>0.810838</td>\n",
       "      <td>-0.732958</td>\n",
       "      <td>-0.343334</td>\n",
       "      <td>-0.343538</td>\n",
       "      <td>-0.661491</td>\n",
       "      <td>-0.539096</td>\n",
       "      <td>-0.389257</td>\n",
       "      <td>1.772410</td>\n",
       "      <td>-0.432691</td>\n",
       "      <td>...</td>\n",
       "      <td>12</td>\n",
       "      <td>1</td>\n",
       "      <td>0</td>\n",
       "      <td>1</td>\n",
       "      <td>1</td>\n",
       "      <td>0</td>\n",
       "      <td>1</td>\n",
       "      <td>1</td>\n",
       "      <td>3</td>\n",
       "      <td>39</td>\n",
       "    </tr>\n",
       "    <tr>\n",
       "      <th>2</th>\n",
       "      <td>2.364366</td>\n",
       "      <td>0.810838</td>\n",
       "      <td>1.326338</td>\n",
       "      <td>2.537915</td>\n",
       "      <td>2.297815</td>\n",
       "      <td>2.232775</td>\n",
       "      <td>2.427249</td>\n",
       "      <td>-0.389257</td>\n",
       "      <td>1.132019</td>\n",
       "      <td>0.450769</td>\n",
       "      <td>...</td>\n",
       "      <td>1090</td>\n",
       "      <td>0</td>\n",
       "      <td>0</td>\n",
       "      <td>0</td>\n",
       "      <td>4</td>\n",
       "      <td>0</td>\n",
       "      <td>5</td>\n",
       "      <td>1</td>\n",
       "      <td>2</td>\n",
       "      <td>23</td>\n",
       "    </tr>\n",
       "    <tr>\n",
       "      <th>3</th>\n",
       "      <td>0.297232</td>\n",
       "      <td>0.810838</td>\n",
       "      <td>0.639906</td>\n",
       "      <td>0.809166</td>\n",
       "      <td>-0.095638</td>\n",
       "      <td>-0.443924</td>\n",
       "      <td>-0.539096</td>\n",
       "      <td>-0.389257</td>\n",
       "      <td>-0.148762</td>\n",
       "      <td>-0.435469</td>\n",
       "      <td>...</td>\n",
       "      <td>717</td>\n",
       "      <td>1</td>\n",
       "      <td>0</td>\n",
       "      <td>1</td>\n",
       "      <td>1</td>\n",
       "      <td>0</td>\n",
       "      <td>9</td>\n",
       "      <td>1</td>\n",
       "      <td>3</td>\n",
       "      <td>52</td>\n",
       "    </tr>\n",
       "    <tr>\n",
       "      <th>4</th>\n",
       "      <td>-0.977402</td>\n",
       "      <td>0.810838</td>\n",
       "      <td>-0.046526</td>\n",
       "      <td>-0.343334</td>\n",
       "      <td>-0.678820</td>\n",
       "      <td>-0.319600</td>\n",
       "      <td>-0.539096</td>\n",
       "      <td>-0.389257</td>\n",
       "      <td>-1.429543</td>\n",
       "      <td>-0.729956</td>\n",
       "      <td>...</td>\n",
       "      <td>55</td>\n",
       "      <td>0</td>\n",
       "      <td>0</td>\n",
       "      <td>0</td>\n",
       "      <td>1</td>\n",
       "      <td>2</td>\n",
       "      <td>0</td>\n",
       "      <td>1</td>\n",
       "      <td>3</td>\n",
       "      <td>82</td>\n",
       "    </tr>\n",
       "  </tbody>\n",
       "</table>\n",
       "<p>5 rows × 35 columns</p>\n",
       "</div>"
      ],
      "text/plain": [
       "   土地移轉總面積(平方公尺)  建物現況格局-廳  建物現況格局-房  建物現況格局-衛  建物移轉總面積(平方公尺)     總價(元)  \\\n",
       "0       2.364366 -1.567971 -1.419390 -1.495833      -1.353538 -0.910140   \n",
       "1       0.631359  0.810838 -0.732958 -0.343334      -0.343538 -0.661491   \n",
       "2       2.364366  0.810838  1.326338  2.537915       2.297815  2.232775   \n",
       "3       0.297232  0.810838  0.639906  0.809166      -0.095638 -0.443924   \n",
       "4      -0.977402  0.810838 -0.046526 -0.343334      -0.678820 -0.319600   \n",
       "\n",
       "   車位移轉總面積(平方公尺)   車位總價(元)  num_of_bus_stations_in_100m  income_avg  ...  \\\n",
       "0      -0.539096 -0.389257                    -1.429543    0.102731  ...   \n",
       "1      -0.539096 -0.389257                     1.772410   -0.432691  ...   \n",
       "2       2.427249 -0.389257                     1.132019    0.450769  ...   \n",
       "3      -0.539096 -0.389257                    -0.148762   -0.435469  ...   \n",
       "4      -0.539096 -0.389257                    -1.429543   -0.729956  ...   \n",
       "\n",
       "   土地區段位置/建物區段門牌  建物型態  建物現況格局-隔間  有無管理組織  車位類別  都市土地使用分區  鄉鎮市區  非都市土地使用分區  \\\n",
       "0            933     2          0       1     1         1     6          1   \n",
       "1             12     1          0       1     1         0     1          1   \n",
       "2           1090     0          0       0     4         0     5          1   \n",
       "3            717     1          0       1     1         0     9          1   \n",
       "4             55     0          0       0     1         2     0          1   \n",
       "\n",
       "   location_type  nearest_tarin_station  \n",
       "0              1                     40  \n",
       "1              3                     39  \n",
       "2              2                     23  \n",
       "3              3                     52  \n",
       "4              3                     82  \n",
       "\n",
       "[5 rows x 35 columns]"
      ]
     },
     "metadata": {},
     "output_type": "display_data"
    }
   ],
   "source": [
    "display(df_train.head())"
   ]
  },
  {
   "cell_type": "code",
   "execution_count": 6,
   "id": "b6f1094c",
   "metadata": {},
   "outputs": [],
   "source": [
    "x_train, x_test, y_train, y_test = train_test_split(df_train,df_train_y,test_size=0.2,random_state=1)"
   ]
  },
  {
   "cell_type": "code",
   "execution_count": 7,
   "id": "4c5ae186",
   "metadata": {},
   "outputs": [],
   "source": [
    "#n_estimators: 也就是弱学习器的最大迭代次数，或者说最大的弱学习器的个数。\n",
    "#              一般来说n_estimators太小，容易欠拟合，n_estimators太大，\n",
    "#              又容易过拟合，一般选择一个适中的数值。默认是100。在实际调参的过程中，\n",
    "#              我们常常将n_estimators和下面介绍的参数learning_rate一起考虑。\n",
    "\n",
    "# learning_rate: 即每个弱学习器的权重缩减系数ν，也称作步长，在原理篇的正则化章节我们也讲到了，\n",
    "#                加上了正则化项，我们的强学习器的迭代公式为fk(x)=fk−1(x)+νhk(x)。ν的取值范围为0<ν≤1。\n",
    "#                对于同样的训练集拟合效果，较小的ν意味着我们需要更多的弱学习器的迭代次数。通常我们用步长和迭代最大次数一起来决定算法的拟合效果。\n",
    "#                所以这两个参数n_estimators和learning_rate要一起调参。一般来说，可以从一个小一点的ν开始调参，默认是1。\n",
    "\n",
    "# subsample: 即我們在原理篇的正則化章節講到的子採樣，取值爲(0,1]。\n",
    "#             注意這裏的子採樣和隨機森林不一樣，隨機森林使用的是放回抽樣,\n",
    "#             而這裏是不放回抽樣。如果取值爲1，則全部樣本都使用，等於沒有使用子採樣。\n",
    "#             如果取值小於1，則只有一部分樣本會去做GBDT的決策樹擬合。選擇小於1的比例可以減少方差，\n",
    "#             即防止過擬合，但是會增加樣本擬合的偏差，因此取值不能太低。推薦在[0.5, 0.8]之間，默認是1.0，即不使用子採樣。\n",
    "\n",
    "# max_depth: 決策樹最大深度,默認可以不輸入，如果不輸入的話，默認值是3。一般來說，數據少或者特徵少的時候可以不管這個值。\n",
    "#            如果模型樣本量多，特徵也多的情況下，推薦限制這個最大深度，具體的取值取決於數據的分佈。常用的可以取值10-100之間。\n",
    "\n",
    "#max_features: 劃分時考慮的最大特徵數,可以使用很多種類型的值，默認是\"None\",意味着劃分時考慮所有的特徵數\n",
    "\n",
    "#min_samples_split: 內部節點再劃分所需最小樣本數,這個值限制了子樹繼續劃分的條件，如果某節點的樣本數少於min_samples_split，\n",
    "#                   則不會繼續再嘗試選擇最優特徵來進行劃分。 默認是2.如果樣本量不大，不需要管這個值。如果樣本量數量級非常大，則推薦增大這個值。\n",
    "\n",
    "# min_samples_leaf: 葉子節點最少樣本數,這個值限制了葉子節點最少的樣本數，如果某葉子節點數目小於樣本數，則會和兄弟節點一起被剪枝。 \n",
    "#             默認是1,可以輸入最少的樣本數的整數，或者最少樣本數佔樣本總數的百分比。如果樣本量不大，不需要管這個值。如果樣本量數量級非常大，則推薦增大這個值。\n",
    "\n",
    "# bootstrap 和 bootstrap_features 控制著樣例和特徵的抽取是有放回還是無放回的。\n",
    "\n",
    "# bootstrap:是統計學中的一種重採樣技術，可以簡單理解成是有放回地抽樣，默認是True,即採取有放回抽樣這種策略，這不就是bagging的思想麼。\n",
    "#           oob_score:袋外估計(out-of-bag)，這個外是針對於bagging這個袋子而言的，我們知道，bagging採取的隨機抽樣的方式去建立樹模型，那麼那些未被抽取到的樣本集，\n",
    "#           也就是未參與建立樹模型的數據集就是袋外數據集，我們就可以用這部分數據集去驗證模型效果，默認值爲False。\n",
    "\n",
    "from sklearn.linear_model import LinearRegression\n",
    "from sklearn.ensemble import GradientBoostingRegressor, RandomForestRegressor\n",
    "lr = LinearRegression()\n",
    "gdbt = GradientBoostingRegressor(tol=0.1,subsample=0.37,n_estimators=200,max_features=20,max_depth=6,learning_rate=0.03)\n",
    "rf = RandomForestRegressor(n_estimators=300,min_samples_split=9,min_samples_leaf=10,max_features='sqrt',max_depth=8,bootstrap=False)"
   ]
  },
  {
   "cell_type": "code",
   "execution_count": 8,
   "id": "e9c6de84",
   "metadata": {},
   "outputs": [
    {
     "name": "stdout",
     "output_type": "stream",
     "text": [
      "88045.67690701502\n"
     ]
    }
   ],
   "source": [
    "model_lr = lr.fit(x_train,y_train)\n",
    "lr_pred = model_lr.predict(x_test)\n",
    "mse_lr = mean_squared_error(lr_pred,y_test,squared=False)\n",
    "print(mse_lr)"
   ]
  },
  {
   "cell_type": "code",
   "execution_count": 9,
   "id": "c2a58463",
   "metadata": {},
   "outputs": [
    {
     "name": "stdout",
     "output_type": "stream",
     "text": [
      "86369.22179702045\n"
     ]
    }
   ],
   "source": [
    "model_rf = rf.fit(x_train,y_train)\n",
    "rf_pred = model_rf.predict(x_test)\n",
    "mse_rf = mean_squared_error(rf_pred,y_test,squared=False)\n",
    "print(mse_rf)"
   ]
  },
  {
   "cell_type": "code",
   "execution_count": 12,
   "id": "65270fc7",
   "metadata": {},
   "outputs": [
    {
     "name": "stdout",
     "output_type": "stream",
     "text": [
      "96402.97065444443\n"
     ]
    }
   ],
   "source": [
    "#梯度提升機預測\n",
    "model_gdbt = gdbt.fit(x_train, y_train)\n",
    "gdbt_pred =gdbt.predict(x_test)\n",
    "mse_gdbt = mean_squared_error(gdbt_pred, y_test,squared=False)\n",
    "print(mse_gdbt)"
   ]
  },
  {
   "cell_type": "code",
   "execution_count": 13,
   "id": "c725cea2",
   "metadata": {},
   "outputs": [
    {
     "data": {
      "text/plain": [
       "73744.0717825205"
      ]
     },
     "execution_count": 13,
     "metadata": {},
     "output_type": "execute_result"
    }
   ],
   "source": [
    "#混合泛化預測\n",
    "mse_sum = 1/mse_gdbt + 1/mse_rf +1/mse_lr\n",
    "blending_pred = lr_pred*((1/mse_lr)/mse_sum)+rf_pred*((1/mse_rf)/mse_sum)+gdbt_pred*((1/mse_gdbt)/mse_sum)\n",
    "mean_squared_error(blending_pred,y_test,squared=False)"
   ]
  },
  {
   "cell_type": "code",
   "execution_count": null,
   "id": "a64aa70a",
   "metadata": {},
   "outputs": [],
   "source": []
  }
 ],
 "metadata": {
  "kernelspec": {
   "display_name": "Python 3",
   "language": "python",
   "name": "python3"
  },
  "language_info": {
   "codemirror_mode": {
    "name": "ipython",
    "version": 3
   },
   "file_extension": ".py",
   "mimetype": "text/x-python",
   "name": "python",
   "nbconvert_exporter": "python",
   "pygments_lexer": "ipython3",
   "version": "3.8.8"
  }
 },
 "nbformat": 4,
 "nbformat_minor": 5
}
