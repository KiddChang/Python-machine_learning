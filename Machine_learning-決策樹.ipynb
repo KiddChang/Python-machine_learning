{
 "cells": [
  {
   "cell_type": "markdown",
   "id": "015ca91a",
   "metadata": {},
   "source": [
    "# 決策樹API"
   ]
  },
  {
   "cell_type": "code",
   "execution_count": null,
   "id": "ecd0fb7b",
   "metadata": {},
   "outputs": [],
   "source": [
    "#sklearn.tree.DecisionTreeClassifier()  ~~~決策樹分類器\n",
    "#sklearn.ensemble.RandomForestClassifier() ~~~隨機森林分類器\n",
    "#利用sklearn.metrics.accracy_score(Y,y_pred)  ~~~取得accuracy score  Y為答案\n",
    "   #normalize \n",
    "    #True :get accuracy score\n",
    "    #Flase:get number of correct samples   ~~共猜對了多少資料"
   ]
  },
  {
   "cell_type": "code",
   "execution_count": 40,
   "id": "b17e8491",
   "metadata": {},
   "outputs": [],
   "source": [
    "import numpy as np\n",
    "import matplotlib.pyplot as plt\n",
    "from sklearn.model_selection import train_test_split\n",
    "from sklearn.metrics import accuracy_score\n",
    "from sklearn.datasets import load_breast_cancer\n",
    "from sklearn.tree import DecisionTreeClassifier"
   ]
  },
  {
   "cell_type": "code",
   "execution_count": 41,
   "id": "e0358e06",
   "metadata": {},
   "outputs": [],
   "source": [
    "#load data \n",
    "cancer = load_breast_cancer()"
   ]
  },
  {
   "cell_type": "code",
   "execution_count": 42,
   "id": "d05af160",
   "metadata": {},
   "outputs": [
    {
     "name": "stdout",
     "output_type": "stream",
     "text": [
      "['mean radius' 'mean texture' 'mean perimeter' 'mean area'\n",
      " 'mean smoothness' 'mean compactness' 'mean concavity'\n",
      " 'mean concave points' 'mean symmetry' 'mean fractal dimension'\n",
      " 'radius error' 'texture error' 'perimeter error' 'area error'\n",
      " 'smoothness error' 'compactness error' 'concavity error'\n",
      " 'concave points error' 'symmetry error' 'fractal dimension error'\n",
      " 'worst radius' 'worst texture' 'worst perimeter' 'worst area'\n",
      " 'worst smoothness' 'worst compactness' 'worst concavity'\n",
      " 'worst concave points' 'worst symmetry' 'worst fractal dimension']\n"
     ]
    }
   ],
   "source": [
    "print(cancer.feature_names)"
   ]
  },
  {
   "cell_type": "code",
   "execution_count": 43,
   "id": "1e0aae6f",
   "metadata": {},
   "outputs": [],
   "source": [
    "x = cancer.data"
   ]
  },
  {
   "cell_type": "code",
   "execution_count": 44,
   "id": "6b82c126",
   "metadata": {},
   "outputs": [],
   "source": [
    "y = cancer.target  #答案"
   ]
  },
  {
   "cell_type": "code",
   "execution_count": 45,
   "id": "29c44283",
   "metadata": {},
   "outputs": [],
   "source": [
    "x_train, x_test, y_train, y_test = train_test_split(x,y, test_size = 0.2, random_state =1)"
   ]
  },
  {
   "cell_type": "code",
   "execution_count": 15,
   "id": "a12e77e7",
   "metadata": {},
   "outputs": [
    {
     "data": {
      "text/plain": [
       "DecisionTreeClassifier(min_samples_leaf=3)"
      ]
     },
     "execution_count": 15,
     "metadata": {},
     "output_type": "execute_result"
    }
   ],
   "source": [
    "model = DecisionTreeClassifier(min_samples_leaf =3) #叫出決策樹API   設定剩最少三個節點以上 \n",
    "model.fit(x_train, y_train)  #用訓練出來的模型 用訓練集去訓練"
   ]
  },
  {
   "cell_type": "code",
   "execution_count": 46,
   "id": "fcdd4374",
   "metadata": {},
   "outputs": [],
   "source": [
    "y_pred = model.predict(x_test)"
   ]
  },
  {
   "cell_type": "code",
   "execution_count": 47,
   "id": "d0387a73",
   "metadata": {},
   "outputs": [],
   "source": [
    "accuracy = accuracy_score(y_test, y_pred)  #算準確度"
   ]
  },
  {
   "cell_type": "code",
   "execution_count": 63,
   "id": "baf46c96",
   "metadata": {},
   "outputs": [],
   "source": [
    "num_correct_samples = accuracy_score(y_test,y_pred,normalize=False) #算猜中幾個"
   ]
  },
  {
   "cell_type": "code",
   "execution_count": 64,
   "id": "07208920",
   "metadata": {},
   "outputs": [
    {
     "name": "stdout",
     "output_type": "stream",
     "text": [
      "number of correct sample:109\n"
     ]
    }
   ],
   "source": [
    "print(f'number of correct sample:{num_correct_samples}')"
   ]
  },
  {
   "cell_type": "code",
   "execution_count": 50,
   "id": "6a284feb",
   "metadata": {},
   "outputs": [
    {
     "name": "stdout",
     "output_type": "stream",
     "text": [
      "accuracy:0.956140350877193\n"
     ]
    }
   ],
   "source": [
    "print(f'accuracy:{accuracy}')"
   ]
  },
  {
   "cell_type": "code",
   "execution_count": null,
   "id": "74afd1f2",
   "metadata": {},
   "outputs": [],
   "source": [
    "\n"
   ]
  },
  {
   "cell_type": "code",
   "execution_count": null,
   "id": "0b89e3ff",
   "metadata": {},
   "outputs": [],
   "source": []
  },
  {
   "cell_type": "code",
   "execution_count": null,
   "id": "20d662ee",
   "metadata": {},
   "outputs": [],
   "source": []
  }
 ],
 "metadata": {
  "kernelspec": {
   "display_name": "kiddpy2",
   "language": "python",
   "name": "kiddpy"
  },
  "language_info": {
   "codemirror_mode": {
    "name": "ipython",
    "version": 3
   },
   "file_extension": ".py",
   "mimetype": "text/x-python",
   "name": "python",
   "nbconvert_exporter": "python",
   "pygments_lexer": "ipython3",
   "version": "3.8.8"
  }
 },
 "nbformat": 4,
 "nbformat_minor": 5
}
