{
 "cells": [
  {
   "cell_type": "markdown",
   "id": "cfe25e3e",
   "metadata": {},
   "source": [
    "# Fit Transform/predict"
   ]
  },
  {
   "cell_type": "code",
   "execution_count": 1,
   "id": "0cd4203e",
   "metadata": {},
   "outputs": [],
   "source": [
    "#fit :代表擬合，訓練模型\n",
    "#transform:使用已經訓練過的模型來令資料轉換\n",
    "#predict:使用已經訓練過的模型來預測結果\n",
    "#fit_transform、fit_predict 同時訓練與得到轉換後的資料/預測結果"
   ]
  },
  {
   "cell_type": "markdown",
   "id": "2dea83e6",
   "metadata": {},
   "source": [
    "# 切分資料"
   ]
  },
  {
   "cell_type": "code",
   "execution_count": 3,
   "id": "d688c612",
   "metadata": {},
   "outputs": [],
   "source": [
    "import numpy as np\n",
    "from sklearn.model_selection import train_test_split"
   ]
  },
  {
   "cell_type": "code",
   "execution_count": 4,
   "id": "d4a4c736",
   "metadata": {},
   "outputs": [],
   "source": [
    "x = np.arange(20).reshape((10,2))\n",
    "y = np.arange(10)"
   ]
  },
  {
   "cell_type": "code",
   "execution_count": 8,
   "id": "545a383c",
   "metadata": {},
   "outputs": [
    {
     "name": "stdout",
     "output_type": "stream",
     "text": [
      "Before splitting\n"
     ]
    }
   ],
   "source": [
    "print('Before splitting')"
   ]
  },
  {
   "cell_type": "code",
   "execution_count": 6,
   "id": "390db6d4",
   "metadata": {},
   "outputs": [
    {
     "data": {
      "text/plain": [
       "array([[ 0,  1],\n",
       "       [ 2,  3],\n",
       "       [ 4,  5],\n",
       "       [ 6,  7],\n",
       "       [ 8,  9],\n",
       "       [10, 11],\n",
       "       [12, 13],\n",
       "       [14, 15],\n",
       "       [16, 17],\n",
       "       [18, 19]])"
      ]
     },
     "execution_count": 6,
     "metadata": {},
     "output_type": "execute_result"
    }
   ],
   "source": [
    "x  #模擬資料集"
   ]
  },
  {
   "cell_type": "code",
   "execution_count": 7,
   "id": "c1098613",
   "metadata": {},
   "outputs": [
    {
     "data": {
      "text/plain": [
       "array([0, 1, 2, 3, 4, 5, 6, 7, 8, 9])"
      ]
     },
     "execution_count": 7,
     "metadata": {},
     "output_type": "execute_result"
    }
   ],
   "source": [
    "y  #模擬label 答案"
   ]
  },
  {
   "cell_type": "code",
   "execution_count": 9,
   "id": "f28b1392",
   "metadata": {},
   "outputs": [
    {
     "data": {
      "text/plain": [
       "(10, 2)"
      ]
     },
     "execution_count": 9,
     "metadata": {},
     "output_type": "execute_result"
    }
   ],
   "source": [
    "x.shape"
   ]
  },
  {
   "cell_type": "code",
   "execution_count": 10,
   "id": "5ee6cf7a",
   "metadata": {},
   "outputs": [
    {
     "data": {
      "text/plain": [
       "(10,)"
      ]
     },
     "execution_count": 10,
     "metadata": {},
     "output_type": "execute_result"
    }
   ],
   "source": [
    "y.shape"
   ]
  },
  {
   "cell_type": "code",
   "execution_count": 11,
   "id": "81999d66",
   "metadata": {},
   "outputs": [],
   "source": [
    "x_train, x_test, y_train, y_test = train_test_split(x,y ,test_size=0.3)  #將資料切分，7成training 3成test "
   ]
  },
  {
   "cell_type": "code",
   "execution_count": null,
   "id": "15871563",
   "metadata": {},
   "outputs": [],
   "source": [
    "print('After splitting')"
   ]
  },
  {
   "cell_type": "code",
   "execution_count": 12,
   "id": "b1e9bc47",
   "metadata": {},
   "outputs": [
    {
     "data": {
      "text/plain": [
       "array([[ 4,  5],\n",
       "       [ 2,  3],\n",
       "       [18, 19],\n",
       "       [10, 11],\n",
       "       [ 0,  1],\n",
       "       [12, 13],\n",
       "       [16, 17]])"
      ]
     },
     "execution_count": 12,
     "metadata": {},
     "output_type": "execute_result"
    }
   ],
   "source": [
    "x_train  #訓練資料集的資料集"
   ]
  },
  {
   "cell_type": "code",
   "execution_count": 13,
   "id": "9a026cde",
   "metadata": {},
   "outputs": [
    {
     "data": {
      "text/plain": [
       "array([[ 8,  9],\n",
       "       [14, 15],\n",
       "       [ 6,  7]])"
      ]
     },
     "execution_count": 13,
     "metadata": {},
     "output_type": "execute_result"
    }
   ],
   "source": [
    "x_test #測試資料集的資料集"
   ]
  },
  {
   "cell_type": "code",
   "execution_count": 14,
   "id": "289e16ae",
   "metadata": {},
   "outputs": [
    {
     "data": {
      "text/plain": [
       "array([2, 1, 9, 5, 0, 6, 8])"
      ]
     },
     "execution_count": 14,
     "metadata": {},
     "output_type": "execute_result"
    }
   ],
   "source": [
    "y_train  #訓練資料集的答案"
   ]
  },
  {
   "cell_type": "code",
   "execution_count": 16,
   "id": "f4869217",
   "metadata": {},
   "outputs": [
    {
     "data": {
      "text/plain": [
       "array([4, 7, 3])"
      ]
     },
     "execution_count": 16,
     "metadata": {},
     "output_type": "execute_result"
    }
   ],
   "source": [
    "y_test  #測試資料集的答案"
   ]
  },
  {
   "cell_type": "markdown",
   "id": "fb5eb1e9",
   "metadata": {},
   "source": [
    "# Preprocessing Data"
   ]
  },
  {
   "cell_type": "code",
   "execution_count": 17,
   "id": "8eebb0a6",
   "metadata": {},
   "outputs": [],
   "source": [
    "from sklearn import preprocessing\n",
    "import numpy as np"
   ]
  },
  {
   "cell_type": "code",
   "execution_count": 19,
   "id": "53331399",
   "metadata": {},
   "outputs": [
    {
     "name": "stdout",
     "output_type": "stream",
     "text": [
      "after standardiztion.....\n",
      "x_train1:[[-0.84292723 -1.22474487  1.33630621]\n",
      " [ 1.40487872  0.         -0.26726124]\n",
      " [-0.56195149  1.22474487 -1.06904497]]\n"
     ]
    }
   ],
   "source": [
    "x_train1 = np.array([[100, -1, 2],\n",
    "                   [900, 0, 0],\n",
    "                    [200, 1,-1]])\n",
    "scaler = preprocessing.StandardScaler().fit(x_train1)    #指訓練完的模型  scaler 為訓練出來的模型\n",
    "x_train1 = scaler.transform(x_train1)                    #然後再去transform\n",
    "\n",
    "print(\"after standardiztion.....\")\n",
    "print(f'x_train1:{x_train1}')"
   ]
  },
  {
   "cell_type": "code",
   "execution_count": 20,
   "id": "bf9698d9",
   "metadata": {},
   "outputs": [],
   "source": [
    "# 下頭的x_test1 資料 就是拿上頭訓練出來的模型scaler 去做資料轉換的動作"
   ]
  },
  {
   "cell_type": "code",
   "execution_count": 21,
   "id": "67fb95cd",
   "metadata": {},
   "outputs": [
    {
     "name": "stdout",
     "output_type": "stream",
     "text": [
      "x_test1:\n",
      " [[-1.12671273  1.22474487 -0.26726124]]\n"
     ]
    }
   ],
   "source": [
    "x_test1 = np.array([[-1,1,0]])\n",
    "x_test1 = scaler.transform(x_test1)  #用上頭訓練出來的scaler去做轉換\n",
    "print(f'x_test1:\\n {x_test1}')"
   ]
  },
  {
   "cell_type": "markdown",
   "id": "8bfcaa64",
   "metadata": {},
   "source": [
    "# fit_transform api 會直接得到訓練完轉成的資料"
   ]
  },
  {
   "cell_type": "code",
   "execution_count": 22,
   "id": "74418cef",
   "metadata": {},
   "outputs": [
    {
     "name": "stdout",
     "output_type": "stream",
     "text": [
      "after standardiztion......\n",
      "x_train2:\n",
      " [[-0.74838327 -0.74838327]\n",
      " [-1.05654109 -1.05654109]\n",
      " [ 1.40872145  1.40872145]\n",
      " [ 0.17609018  0.17609018]\n",
      " [-1.3646989  -1.3646989 ]\n",
      " [ 0.484248    0.484248  ]\n",
      " [ 1.10056363  1.10056363]]\n"
     ]
    }
   ],
   "source": [
    "x_train2 = np.array([[100,-1,2],\n",
    "                  [900,0,0],\n",
    "                  [200,1,-1]])\n",
    "x_train2 = preprocessing.StandardScaler().fit_transform(x_train)\n",
    "\n",
    "print(\"after standardiztion......\")\n",
    "\n",
    "print(f'x_train2:\\n {x_train2}')       #所得到的x_train2就為轉換好的資料，而不是模型"
   ]
  },
  {
   "cell_type": "code",
   "execution_count": null,
   "id": "b02c1eb2",
   "metadata": {},
   "outputs": [],
   "source": []
  }
 ],
 "metadata": {
  "kernelspec": {
   "display_name": "Python 3",
   "language": "python",
   "name": "python3"
  },
  "language_info": {
   "codemirror_mode": {
    "name": "ipython",
    "version": 3
   },
   "file_extension": ".py",
   "mimetype": "text/x-python",
   "name": "python",
   "nbconvert_exporter": "python",
   "pygments_lexer": "ipython3",
   "version": "3.8.8"
  }
 },
 "nbformat": 4,
 "nbformat_minor": 5
}
