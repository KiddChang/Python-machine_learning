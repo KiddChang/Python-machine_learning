{
 "cells": [
  {
   "cell_type": "markdown",
   "id": "9097014e",
   "metadata": {},
   "source": [
    "# K-Means"
   ]
  },
  {
   "cell_type": "code",
   "execution_count": 6,
   "id": "14e880c5",
   "metadata": {},
   "outputs": [],
   "source": [
    "# sklearn.cluster.KMeans():Kmeans 呼叫K-means\n",
    "# n_clusters 要分成幾個群\n",
    "# random_state 固定起使點的位置\n",
    "# Label_: 查看分群結果"
   ]
  },
  {
   "cell_type": "code",
   "execution_count": 7,
   "id": "f79bdfef",
   "metadata": {},
   "outputs": [],
   "source": [
    "import numpy as np\n",
    "import matplotlib.pyplot as plt\n",
    "\n",
    "from sklearn import cluster, datasets\n",
    "from sklearn.preprocessing import StandardScaler\n",
    "from itertools import cycle,islice"
   ]
  },
  {
   "cell_type": "code",
   "execution_count": 8,
   "id": "f512c47d",
   "metadata": {},
   "outputs": [],
   "source": [
    "#自生成 2D 模板資料\n",
    "n_samples =1500    #生成1500個資料\n",
    "random_state =100\n",
    "\n",
    "#生成 同心圓資料點\n",
    "\n",
    "noisy_circles = datasets.make_circles(n_samples=n_samples,factor=.5,noise=.05)\n",
    "\n",
    "#生成 斜向三群 資料(使用轉換矩陣)\n",
    "X, y = datasets.make_blobs(n_samples = n_samples,random_state=random_state)\n",
    "\n",
    "transformation = [[0.6,-0.6],[-0.4,0.8]]\n",
    "X_aniso = np.dot(X, transformation)\n",
    "aniso =(X_aniso, y)\n",
    "\n",
    "#生成 稀疏三群 資料點\n",
    "varied = datasets.make_blobs(n_samples=n_samples,cluster_std=[1.0,2.5,0.5],random_state=random_state)"
   ]
  },
  {
   "cell_type": "code",
   "execution_count": 9,
   "id": "846b27d1",
   "metadata": {},
   "outputs": [
    {
     "data": {
      "text/plain": [
       "<Figure size 720x576 with 0 Axes>"
      ]
     },
     "metadata": {},
     "output_type": "display_data"
    }
   ],
   "source": [
    "#設定群集及繪圖參數\n",
    "plt.figure(figsize=(10,8))\n",
    "plot_num = 1\n",
    "\n",
    "datasets = [(noisy_circles,{'n_clusters':2}),\n",
    "           (varied,{'n_clusters':3}),\n",
    "           (aniso,{'n_clusters':3})]\n",
    "\n"
   ]
  },
  {
   "cell_type": "code",
   "execution_count": 10,
   "id": "3e3fc69f",
   "metadata": {
    "scrolled": true
   },
   "outputs": [
    {
     "data": {
      "image/png": "[encoded data removed]",
      "text/plain": [
       "<Figure size 432x288 with 9 Axes>"
      ]
     },
     "metadata": {},
     "output_type": "display_data"
    }
   ],
   "source": [
    "# 執行各種樣板資料的繪圖迴圈\n",
    "\n",
    "for i_dataset, (dataset, algo_params) in enumerate(datasets):\n",
    "    X, y = dataset\n",
    "    X = StandardScaler().fit_transform(X)\n",
    "#設定Kmeans 三種不同的起始點\n",
    "    random_1  = cluster.KMeans(n_clusters=algo_params['n_clusters'],random_state=1)\n",
    "    random_50 = cluster.KMeans(n_clusters=algo_params['n_clusters'],random_state=50)\n",
    "    random_90 = cluster.KMeans(n_clusters=algo_params['n_clusters'],random_state=90)\n",
    "    \n",
    "    clustering_algorithms = (('seed1',random_1),('seed50',random_50),('seed90',random_90))\n",
    "#繪製三種圖形 \n",
    "    for name, algorithm in clustering_algorithms:\n",
    "        y_pred = algorithm.fit_predict(X)\n",
    "        \n",
    "        plt.subplot(len(datasets),len(clustering_algorithms), plot_num)\n",
    "        if i_dataset == 0:\n",
    "            plt.title(name, size=18)\n",
    "            \n",
    "        colors =np.array(list(islice(cycle(['#377eb8','#ff7f00','#4daf4a','#f781bf','#a65628','#984ea3','#999999','#e41a1c','#dede00']),int(max(y_pred) + 1))))\n",
    "        \n",
    "        plt.scatter(x[:,0], x[:,1], s=10, color=colors[y_pred])\n",
    "        \n",
    "        \n",
    "        plt.xlim(-2.5,2.5)\n",
    "        plt.ylim(-2.5,2.5)\n",
    "        plt.xticks(())\n",
    "        plt.yticks(())\n",
    "        plot_num +=1\n",
    "\n",
    "plt.show()\n"
   ]
  },
  {
   "cell_type": "code",
   "execution_count": null,
   "id": "3e78c9ab",
   "metadata": {},
   "outputs": [],
   "source": []
  }
 ],
 "metadata": {
  "kernelspec": {
   "display_name": "Python 3",
   "language": "python",
   "name": "python3"
  },
  "language_info": {
   "codemirror_mode": {
    "name": "ipython",
    "version": 3
   },
   "file_extension": ".py",
   "mimetype": "text/x-python",
   "name": "python",
   "nbconvert_exporter": "python",
   "pygments_lexer": "ipython3",
   "version": "3.8.8"
  }
 },
 "nbformat": 4,
 "nbformat_minor": 5
}
