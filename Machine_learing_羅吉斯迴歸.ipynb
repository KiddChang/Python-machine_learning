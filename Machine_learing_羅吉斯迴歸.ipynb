{
 "cells": [
  {
   "cell_type": "code",
   "execution_count": 1,
   "id": "8f2d1097",
   "metadata": {},
   "outputs": [],
   "source": [
    "#sklearn.linear_model.LogisticRegression() ~~logistic regression\n",
    "#penalty: \"L1\" ,\"L2\" \n",
    "#C:正則化的強度，數字越小，模型越簡單 數字越大越複雜，越容易 overfitting \n",
    "#限制 learned Parameters\n",
    "\n",
    "#score(x,y)  x:data y:答案 "
   ]
  },
  {
   "cell_type": "code",
   "execution_count": 2,
   "id": "233aee5f",
   "metadata": {},
   "outputs": [],
   "source": [
    "import numpy as np\n",
    "import matplotlib.pyplot as plt\n",
    "from sklearn.model_selection import train_test_split\n",
    "from sklearn.linear_model import LogisticRegression\n",
    "from sklearn import datasets\n"
   ]
  },
  {
   "cell_type": "code",
   "execution_count": 3,
   "id": "ee3e3701",
   "metadata": {},
   "outputs": [],
   "source": [
    "cancer = datasets.load_breast_cancer()"
   ]
  },
  {
   "cell_type": "code",
   "execution_count": 4,
   "id": "ceab6e50",
   "metadata": {},
   "outputs": [],
   "source": [
    "x = cancer.data"
   ]
  },
  {
   "cell_type": "code",
   "execution_count": 5,
   "id": "30b76d01",
   "metadata": {},
   "outputs": [],
   "source": [
    "y = cancer.target   #答案"
   ]
  },
  {
   "cell_type": "code",
   "execution_count": 7,
   "id": "3377e9be",
   "metadata": {},
   "outputs": [],
   "source": [
    "x_train, x_test, y_train, y_test = train_test_split(x,y, test_size =0.3,random_state =1)"
   ]
  },
  {
   "cell_type": "code",
   "execution_count": 9,
   "id": "881ccfc1",
   "metadata": {},
   "outputs": [
    {
     "data": {
      "text/plain": [
       "LogisticRegression(max_iter=2000)"
      ]
     },
     "execution_count": 9,
     "metadata": {},
     "output_type": "execute_result"
    }
   ],
   "source": [
    "model = LogisticRegression(max_iter =2000)  #訓練次數 預設為100 數值太大會失重\n",
    "model.fit(x_train,y_train)"
   ]
  },
  {
   "cell_type": "code",
   "execution_count": 10,
   "id": "9d9401fe",
   "metadata": {},
   "outputs": [],
   "source": [
    "y_pred = model.predict(x_test)"
   ]
  },
  {
   "cell_type": "code",
   "execution_count": 11,
   "id": "5f7edd48",
   "metadata": {},
   "outputs": [],
   "source": [
    "accuracy = model.score(x_test, y_test) \n",
    "#LogisticRegression 的 .score 不是放y_test 而是放x_test。 跟sklearn.metrics的 accuracy_score 放y_test不同，羅吉斯有他自已的.score方法"
   ]
  },
  {
   "cell_type": "code",
   "execution_count": 13,
   "id": "07d23701",
   "metadata": {},
   "outputs": [
    {
     "name": "stdout",
     "output_type": "stream",
     "text": [
      "[[ 0.36086842  0.17761309 -0.36266384  0.03612221 -0.09552826 -0.10287237\n",
      "  -0.28935803 -0.17393372 -0.18176469 -0.00419139 -0.04599525  0.37820681\n",
      "   0.31012656 -0.07823345 -0.02271923  0.0487776  -0.02821473 -0.03203276\n",
      "  -0.00987162  0.01140929 -0.19142221 -0.35940731 -0.16874798 -0.00882333\n",
      "  -0.21886575 -0.40111089 -0.79645617 -0.40703203 -0.33135948 -0.02890712]]\n"
     ]
    }
   ],
   "source": [
    "print(model.coef_)"
   ]
  },
  {
   "cell_type": "code",
   "execution_count": 14,
   "id": "b1e38247",
   "metadata": {},
   "outputs": [
    {
     "name": "stdout",
     "output_type": "stream",
     "text": [
      "[0 0 1 0 0 0 0 0 1 1 1 0 0 1 1 1 1 1 1 0 1 1 0 1 0 1 1 0 0 0 0 1 0 0 1 1 0\n",
      " 1 1 1 1 1 1 1 1 0 1 1 1 0 0 0 1 1 1 1 1 1 1 1 1 0 1 1 1 1 1 0 1 1 1 1 1 0\n",
      " 1 0 1 1 1 0 1 0 1 0 1 1 0 1 0 1 1 0 1 1 0 0 1 1 1 1 1 1 1 1 1 1 1 1 0 0 0\n",
      " 1 1 1 0 0 1 1 1 1 1 0 0 1 1 0 0 0 0 0 1 1 1 0 1 0 0 1 1 0 0 0 1 0 1 0 1 1\n",
      " 1 0 1 1 1 1 1 1 1 1 1 1 1 1 1 0 1 1 0 0 0 1 1]\n"
     ]
    }
   ],
   "source": [
    "print(y_pred)   #預測是否為腫瘤 1為true 腫瘤    0為false 不是腫瘤"
   ]
  },
  {
   "cell_type": "code",
   "execution_count": 16,
   "id": "b2f4988e",
   "metadata": {},
   "outputs": [
    {
     "name": "stdout",
     "output_type": "stream",
     "text": [
      "0.9473684210526315\n"
     ]
    }
   ],
   "source": [
    "print(accuracy)"
   ]
  },
  {
   "cell_type": "code",
   "execution_count": null,
   "id": "cef20e44",
   "metadata": {},
   "outputs": [],
   "source": []
  }
 ],
 "metadata": {
  "kernelspec": {
   "display_name": "Python 3",
   "language": "python",
   "name": "python3"
  },
  "language_info": {
   "codemirror_mode": {
    "name": "ipython",
    "version": 3
   },
   "file_extension": ".py",
   "mimetype": "text/x-python",
   "name": "python",
   "nbconvert_exporter": "python",
   "pygments_lexer": "ipython3",
   "version": "3.8.8"
  }
 },
 "nbformat": 4,
 "nbformat_minor": 5
}
